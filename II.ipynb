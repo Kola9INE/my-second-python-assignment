{
 "cells": [
  {
   "cell_type": "markdown",
   "id": "b7671615-b07e-47f8-b537-4d0e26517c07",
   "metadata": {
    "jp-MarkdownHeadingCollapsed": true,
    "tags": []
   },
   "source": [
    "# **ASSIGNMENT**"
   ]
  },
  {
   "cell_type": "markdown",
   "id": "26168c26-655d-4440-a17d-81a7b56dc9c8",
   "metadata": {},
   "source": [
    "1. Create a function to calculate the BMI of an individual, given the height (m) and mass (kg)\n",
    "\n",
    "2. Create a fucntion to calculate the total number of legs in a farm with four species of animals.\n",
    "\n",
    "    SPECIE: COWS, PIGS, CHICKEN, RABBITS\n",
    "    \n",
    "    NUMBER OF ANIMALS: 120, 50, 100, 25 respectively\n",
    "    \n",
    "    Your function should be dynamic if the animal changes\n",
    "    \n",
    "3. Create a function to find the middle item in a list.\n",
    "\n",
    "4. Creat a function to greet a user based on the time of the day, time should be gotten from a dynamic check of the time. No params should be provided to your function."
   ]
  },
  {
   "cell_type": "markdown",
   "id": "b59a32e1-2c05-4a27-b482-a8ace7720d04",
   "metadata": {
    "jp-MarkdownHeadingCollapsed": true,
    "tags": []
   },
   "source": [
    "# **Answer to question 1**"
   ]
  },
  {
   "cell_type": "markdown",
   "id": "6b86d026-76db-457b-8d05-dfb132cfef31",
   "metadata": {},
   "source": [
    "1. Create a function to calculate the BMI of an individual, given the height (m) and mass (kg)"
   ]
  },
  {
   "cell_type": "code",
   "execution_count": 93,
   "id": "3374dd13-2cf2-415e-92b6-053aed1fb9b1",
   "metadata": {
    "tags": []
   },
   "outputs": [],
   "source": [
    "#BMI = KG/H^2\n",
    "def calcBMI(name: str):\n",
    "    kg = int(input(\"The last time you checked, how much did you weigh?\" ))\n",
    "    height = float(input(\"The last time you checked, what was your height in meters?\" ))\n",
    "    BMI = kg/(height * height)\n",
    "    return \"Nice! \"+ name + \", your BMI is \" + str(BMI)"
   ]
  },
  {
   "cell_type": "code",
   "execution_count": 94,
   "id": "4b87f841-28a5-4cfe-917c-4f57eca87a6c",
   "metadata": {
    "tags": []
   },
   "outputs": [
    {
     "name": "stdin",
     "output_type": "stream",
     "text": [
      "The last time you checked, how much did you weigh? 68\n",
      "The last time you checked, what was your height in meters? 1.75\n"
     ]
    },
    {
     "data": {
      "text/plain": [
       "'Nice! Kola, your BMI is 22.20408163265306'"
      ]
     },
     "execution_count": 94,
     "metadata": {},
     "output_type": "execute_result"
    }
   ],
   "source": [
    "calcBMI(\"Kola\")"
   ]
  },
  {
   "cell_type": "markdown",
   "id": "0d6cf43c-e077-41c9-ba94-0e06ca51a954",
   "metadata": {
    "jp-MarkdownHeadingCollapsed": true,
    "tags": []
   },
   "source": [
    "# **Answer to question 2**"
   ]
  },
  {
   "cell_type": "markdown",
   "id": "5e6d3f97-1981-495c-a08e-f651443a20dd",
   "metadata": {},
   "source": [
    "2. Create a fucntion to calculate the total number of legs in a farm with four species of animals.\n",
    "\n",
    "    SPECIE: COWS, PIGS, CHICKEN, RABBITS\n",
    "    \n",
    "    NUMBER OF ANIMALS: 120, 50, 100, 25 respectively\n",
    "    \n",
    "    Your function should be dynamic if the animal changes"
   ]
  },
  {
   "cell_type": "code",
   "execution_count": 16,
   "id": "a3e58e3e-98eb-44bd-b77e-42bd30fb091f",
   "metadata": {},
   "outputs": [
    {
     "name": "stdout",
     "output_type": "stream",
     "text": [
      "In your farm, you have 120 cows, 50 pigs, 100 chickens and 25 rabbits\n",
      " \n",
      "Do you wish to customize the animals in your farm before returning total legs in farm?\n"
     ]
    },
    {
     "name": "stdin",
     "output_type": "stream",
     "text": [
      "Yes or No: \n",
      " no\n"
     ]
    },
    {
     "name": "stdout",
     "output_type": "stream",
     "text": [
      "Total legs in farm is 980\n"
     ]
    }
   ],
   "source": [
    "# Initializing farm animal dictionary using default values from assignment given as 'Key': Number of legs\n",
    "farmanimal = {'Cows': 4,\n",
    "                'Pigs':4,\n",
    "                'Chicken':2,\n",
    "                'Rabbit':4,\n",
    "             }\n",
    "\n",
    "# 1. Defining function to return user-defined dictionary\n",
    "def farmAnimalUpdate(k_replacer:str):\n",
    "    if k_replacer == \"insect\":\n",
    "        insect = input(\"What is the name of insect? Is it a Bee or Cockroach or moth or...\").capitalize()\n",
    "        farmanimal[insect] = 8\n",
    "        return farmanimal\n",
    "    elif k_replacer == \"bird\":\n",
    "        bird = input(\"What is the name of bird?\").capitalize()\n",
    "        farmanimal[bird] = 2\n",
    "        return farmanimal\n",
    "    else:\n",
    "        others = input(\"Enter name of four-legged animal here: \").capitalize()\n",
    "        farmanimal[others] = 4\n",
    "        return farmanimal\n",
    "\n",
    "# 2. Defining function to calculate total legs of farm animals   \n",
    "def total_legs():\n",
    "    farm_values = list(farmanimal.values())\n",
    "    amt1, amt2, amt3, amt4 = 120, 50, 100, 25\n",
    "    add = (farm_values[0]*amt1) + (farm_values[1]*amt2) + (farm_values[2]*amt3) + (farm_values[3]*amt4)\n",
    "    return \"Total legs in farm is \" + str(add)\n",
    "\n",
    "\n",
    "# Actual program\n",
    "print(\"In your farm, you have 120 cows, 50 pigs, 100 chickens and 25 rabbits\")\n",
    "print(\" \")\n",
    "print(\"Do you wish to customize the animals in your farm before returning total legs in farm?\")\n",
    "response = input(\"Yes or No: \\n\").lower()\n",
    "\n",
    "if response == \"no\":\n",
    "    print(total_legs())\n",
    "else:\n",
    "    print(\"We currently have in our farm: \")\n",
    "    for item in farmanimal:\n",
    "        print(item.upper())\n",
    "    evict = input(\"Which one are you removing?\\n\").capitalize()\n",
    "    if evict in list(farmanimal.keys()):\n",
    "        farmanimal.pop(evict)\n",
    "        print(\"What kind of animal are you gonna replace with? See the recognized kinds below.\")\n",
    "        \n",
    "        replacerkind = {'bird': 2,\n",
    "                        'insect':8,\n",
    "                        'others':4,\n",
    "                        }\n",
    "        \n",
    "        for item in replacerkind:\n",
    "            print(item.upper())    \n",
    "        k_replacer = input(\"What kind of animal are you replacing with?\").lower()\n",
    "    \n",
    "        if k_replacer in list(replacerkind.keys()):\n",
    "            farmAnimalUpdate(k_replacer)\n",
    "            print(\"In your farm, you now have \\n\")\n",
    "            \n",
    "            new_list = list(farmanimal.keys())\n",
    "            animal1, animal2, animal3, animal4 = new_list[0], new_list[1], new_list[2], new_list[3]\n",
    "            print(\"In your farm you now have 120\",animal1,\", 50\",animal2,\", 100\",animal3,\", and 25 \",animal4,\".\")\n",
    "            print(total_legs())\n",
    "            print(\" \")\n",
    "        else:\n",
    "            print(\"Sorry, you either provided item we are currently not working with or you've misspelt your item\")\n",
    "    else:\n",
    "        print(\"We could not locate the animal you wanna remove.\")"
   ]
  },
  {
   "cell_type": "markdown",
   "id": "348db0d3-78a0-42a7-af35-679f07892ee3",
   "metadata": {
    "tags": []
   },
   "source": [
    "# **Answer to question 3**"
   ]
  },
  {
   "cell_type": "markdown",
   "id": "a9df071d-3ceb-4835-922a-8d34ad37b36e",
   "metadata": {},
   "source": [
    "3. Create a function to find the middle item in a list."
   ]
  },
  {
   "cell_type": "code",
   "execution_count": 4,
   "id": "77b5492f-d6bb-43cd-b855-4c215d9a523a",
   "metadata": {
    "tags": []
   },
   "outputs": [],
   "source": [
    "def list_middle():\n",
    "    print(\"Let us see the middle of your list.\\n\")\n",
    "    print(\" \")\n",
    "    entry = input(\"Enter your items here: \")\n",
    "    lst = entry.split()\n",
    "    lst_len = len(lst)\n",
    "    \n",
    "    # If length of list is even\n",
    "    if lst_len % 2 == 0:\n",
    "        first_middle = round(lst_len/2)\n",
    "        second_middle = first_middle - 1\n",
    "        lst_m1 = lst[second_middle]\n",
    "        lst_m2 = lst[first_middle]\n",
    "        return \"The middle of your entry is \", lst_m1, \" and \", lst_m2\n",
    "    else: #Length of list is odd\n",
    "        middle = int((lst_len - 1)/2)\n",
    "        lst_m = lst[middle]\n",
    "        return \"The middle of your entry is \", lst_m"
   ]
  },
  {
   "cell_type": "code",
   "execution_count": 6,
   "id": "261b17f1-bc0c-42d2-942d-1ae41fbef2c8",
   "metadata": {
    "tags": []
   },
   "outputs": [
    {
     "name": "stdout",
     "output_type": "stream",
     "text": [
      "Let us see the middle of your list.\n",
      "\n",
      " \n"
     ]
    },
    {
     "name": "stdin",
     "output_type": "stream",
     "text": [
      "Enter your items here:  1 2 3 4 5 6 7\n"
     ]
    },
    {
     "data": {
      "text/plain": [
       "('The middle of your entry is ', '4')"
      ]
     },
     "execution_count": 6,
     "metadata": {},
     "output_type": "execute_result"
    }
   ],
   "source": [
    "list_middle()"
   ]
  },
  {
   "cell_type": "markdown",
   "id": "afdefcb0-c391-41df-8661-40b9fe3576c9",
   "metadata": {
    "tags": []
   },
   "source": [
    "# **Answer to question 4**"
   ]
  },
  {
   "cell_type": "markdown",
   "id": "4d657369-dcf4-44a3-84b2-6461d50e88f7",
   "metadata": {},
   "source": [
    "4. Create a function to greet a user based on the time of the day, time should be gotten from a dynamic check of the time. No params should be provided to your function."
   ]
  },
  {
   "cell_type": "code",
   "execution_count": 90,
   "id": "68bffdeb-9564-4d37-bdf0-bb82f0f3ace8",
   "metadata": {
    "tags": []
   },
   "outputs": [],
   "source": [
    "def greet_user():\n",
    "    from datetime import datetime\n",
    "    Time = datetime.now()\n",
    "    currentTime = Time.strftime('%H:%M:%S')\n",
    "    username = input(\"Hello! What's your name?\\n\")\n",
    "    return 'Hello ' + username +'! I am Python and the time is '+ currentTime"
   ]
  },
  {
   "cell_type": "code",
   "execution_count": 91,
   "id": "f3d2600c-cf9c-4131-a0a7-6aa19dfa1fe8",
   "metadata": {
    "tags": []
   },
   "outputs": [
    {
     "name": "stdin",
     "output_type": "stream",
     "text": [
      "Hello! What's your name?\n",
      " Kola\n"
     ]
    },
    {
     "data": {
      "text/plain": [
       "'Hello Kola! I am Python and the time is 09:32:41'"
      ]
     },
     "execution_count": 91,
     "metadata": {},
     "output_type": "execute_result"
    }
   ],
   "source": [
    "greet_user()"
   ]
  },
  {
   "cell_type": "code",
   "execution_count": 4,
   "id": "18adbaf2-2e21-474d-a8a1-f8d35454e016",
   "metadata": {},
   "outputs": [],
   "source": [
    "# Testing...\n",
    "\n",
    "def greet_user():\n",
    "    from datetime import datetime\n",
    "    Time = datetime.now().strftime('%H:%M:%S')\n",
    "    timeset = Time.split(\":\")\n",
    "    if timeset[0] < \"12\" and timeset[0] > \"00\":\n",
    "        return \"Good morning! I am Python\"\n",
    "    elif timeset[0] > \"12\" and timeset[0] < \"16\":\n",
    "        return \"Good afternoon! I am Python\"\n",
    "    else:\n",
    "        return \"Hy! Go to bed, it's night. Bye!\"\n",
    "\n",
    "# It worked!!!"
   ]
  },
  {
   "cell_type": "code",
   "execution_count": 5,
   "id": "48abd947-339a-4483-b75c-4fb6d4f668c9",
   "metadata": {
    "tags": []
   },
   "outputs": [
    {
     "data": {
      "text/plain": [
       "\"Hy! Go to bed, it's night. Bye!\""
      ]
     },
     "execution_count": 5,
     "metadata": {},
     "output_type": "execute_result"
    }
   ],
   "source": [
    "greet_user()"
   ]
  },
  {
   "cell_type": "code",
   "execution_count": null,
   "id": "1b6a6f6e-18ca-4582-8714-09ac21cb51da",
   "metadata": {},
   "outputs": [],
   "source": []
  }
 ],
 "metadata": {
  "kernelspec": {
   "display_name": "Python 3 (ipykernel)",
   "language": "python",
   "name": "python3"
  },
  "language_info": {
   "codemirror_mode": {
    "name": "ipython",
    "version": 3
   },
   "file_extension": ".py",
   "mimetype": "text/x-python",
   "name": "python",
   "nbconvert_exporter": "python",
   "pygments_lexer": "ipython3",
   "version": "3.11.5"
  }
 },
 "nbformat": 4,
 "nbformat_minor": 5
}
